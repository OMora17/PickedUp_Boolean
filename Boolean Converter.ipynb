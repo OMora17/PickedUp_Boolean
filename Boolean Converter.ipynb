{
 "cells": [
  {
   "cell_type": "code",
   "execution_count": null,
   "metadata": {
    "collapsed": true
   },
   "outputs": [],
   "source": [
    "## Imports data and necessary libraries\n",
    "import pandas as pd\n",
    "import numpy as np\n",
    "pantry_data = pd.read_csv('PantryOrders.csv')"
   ]
  },
  {
   "cell_type": "code",
   "execution_count": null,
   "outputs": [],
   "source": [
    "## Checks for unique values in the 'Status' \\ 'Was Picked Up' column and places them in uniqueValues arrays\n",
    "uniqueValues1 = pantry_data['Status'].unique()\n",
    "uniqueValues2 = pantry_data['Was Picked Up'].unique()\n",
    "\n",
    "## Replaces values in Status column with boolean '0' for orders that were not picked up and boolean '1' for values that were picked up\n",
    "pantry_data['Status'] = pantry_data['Status'].replace(['done','complete'],1)\n",
    "pantry_data['Status'] = pantry_data['Status'].replace(['failed','cancelled','failed','neverConfirmed','confirmed','checkedIn'],0)\n",
    "\n",
    "## Replaces values in 'Was Picked Up' column with boolean '0' for orders that were not picked up and boolean '1' for values that were picked up\n",
    "uniqueValues2 = pantry_data['Was Picked Up'].unique()\n",
    "uniqueValues2\n",
    "pantry_data['Was Picked Up'] = pantry_data['Was Picked Up'].replace(['Y','y','-Y'],1)\n",
    "pantry_data['Was Picked Up'] = pantry_data['Was Picked Up'].replace(['N','NaN','n',None],0)\n",
    "pantry_data"
   ],
   "metadata": {
    "collapsed": false
   }
  },
  {
   "cell_type": "code",
   "execution_count": null,
   "outputs": [],
   "source": [
    "## Checks if every value in data frame columns 'Was Picked Up'/'Status' are equal and returns TRUE/FALSE\n",
    "pantry_data['Was Picked Up'].equals(pantry_data['Status'])\n",
    "\n",
    "## Creates a column where we see if values in 'Was Picked Up'/'Status' are equal and adds a column to data frame displaying result row by row\n",
    "comparison_column = np.where(pantry_data[\"Was Picked Up\"] == pantry_data[\"Status\"], True, False)\n",
    "pantry_data[\"equal\"] = comparison_column\n",
    "\n",
    "## Creates a dataframe where we see all rows where 'Was Picked Up'/'Status' are not equal in value\n",
    "rslt_df = pantry_data.loc[pantry_data['equal'] == False]\n",
    "rslt_df"
   ],
   "metadata": {
    "collapsed": false
   }
  }
 ],
 "metadata": {
  "kernelspec": {
   "display_name": "Python 3",
   "language": "python",
   "name": "python3"
  },
  "language_info": {
   "codemirror_mode": {
    "name": "ipython",
    "version": 2
   },
   "file_extension": ".py",
   "mimetype": "text/x-python",
   "name": "python",
   "nbconvert_exporter": "python",
   "pygments_lexer": "ipython2",
   "version": "2.7.6"
  }
 },
 "nbformat": 4,
 "nbformat_minor": 0
}

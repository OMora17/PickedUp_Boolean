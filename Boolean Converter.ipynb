{
 "cells": [
  {
   "cell_type": "code",
   "execution_count": 80,
   "metadata": {
    "collapsed": true
   },
   "outputs": [
    {
     "data": {
      "text/plain": "      Pantry Order: Pantry Order Name  ID Number  \\\n0                     a0w3h0000006fCM         76   \n1                     a0w3h0000006fCR         77   \n2                     a0w3h0000006fCW         78   \n3                     a0w3h0000006fCb         79   \n4                     a0w3h0000006fD5         80   \n...                               ...        ...   \n17734                 a0w3h000003XJvL      17827   \n17735                 a0w3h000003XJvf      17828   \n17736                 a0w3h000003XJvk      17829   \n17737                 a0w3h000003XJvp      17830   \n17738                 a0w3h000003XJvu      17831   \n\n                              Confirmation Code  \\\n0      UUEQ5NA6aFL1A3aorW9WUqbOwqW1eTBcBQ76L0Eu   \n1      lxlfRhScMlVcNkugyLjDjak0Gb1T0iEKZdBRXCF3   \n2      PUEJrhQDdeGzMCeWW7CBfJEZEDR8b1j94mbMw4wj   \n3      e1SL3bI1WBJ0oqPfQYRb3FTMqqbsS8Bpaf2PILhD   \n4      g5JkPucT3PYjN5c0bSxzy34VnPQ9WPZYizgkISoG   \n...                                         ...   \n17734  wFzE3vRU3A9dlk0SEuIFTJJjBAOUQQXM9gIvnBs7   \n17735  pyLKJC9WalypCsHD9zTpzyCeRc0oD8J4o0gCr8AW   \n17736  QjreKAWZG3WEzvj5HBRxk2EimwuUH1GWxOZcVWNl   \n17737  J8Dz04ybzYG7zaDFL2ArLJ2HLZ1ArsW81Km7cBTM   \n17738  ZPMFCY8JCiWPDkQdpZEmFEPm7LAagHiyrR1fvidV   \n\n                                                contents        scheduledTime  \\\n0      1 Shampoo;1 Conditioner;2 Soap;1 Pasta Sauce;0...   1/7/2021, 12:45 PM   \n1      1 Kashi Cherry Chocolate Bars;1 Soap;2 Veggie ...   1/7/2021, 12:30 PM   \n2      1 Peanut Butter;1 Breakfast Cereal (Assorted);...    1/7/2021, 3:15 PM   \n3      1 Peanut Butter;2 Assorted Meat Soups;2 Assort...    1/8/2021, 2:15 PM   \n4      1 Peanut Butter;2 Soap;2 Body Wash;2 Assorted ...    1/8/2021, 1:15 PM   \n...                                                  ...                  ...   \n17734  1 Waxed Dental Floss, Mint;1 Evaporated Milk;2...  10/5/2022, 12:00 PM   \n17735  1 Body Wash, Cocoa Butter;1 Shampoo + Conditio...   10/5/2022, 1:00 PM   \n17736  1 Body Wash, Cocoa Butter;1 Toothbrush;1 Evapo...  10/5/2022, 11:00 AM   \n17737  1 Body Wash, Cocoa Butter;1 Hellmann's Mayonna...  10/5/2022, 12:30 PM   \n17738  1 Canned Green Beans;1 Chicken Noodle Soup;1 S...  10/5/2022, 12:30 PM   \n\n               Status             User Email Was Picked Up  \\\n0                done    tyaaung@ucdavis.edu             y   \n1                done     jihuan@ucdavis.edu             y   \n2                done    kamodeo@ucdavis.edu             y   \n3                done    clorena@ucdavis.edu             y   \n4      neverConfirmed     clvang@ucdavis.edu           NaN   \n...               ...                    ...           ...   \n17734       confirmed   jjcuevas@ucdavis.edu           NaN   \n17735       confirmed     stunic@ucdavis.edu           NaN   \n17736       confirmed      verod@ucdavis.edu           NaN   \n17737       confirmed   analviar@ucdavis.edu           NaN   \n17738       confirmed  maxgibson@ucdavis.edu           NaN   \n\n      Pantry Order: Owner Name    Pantry Order: Created By  \\\n0            Austin Mayerhofer  Order Page Site Guest User   \n1            Austin Mayerhofer  Order Page Site Guest User   \n2            Austin Mayerhofer  Order Page Site Guest User   \n3            Austin Mayerhofer  Order Page Site Guest User   \n4            Austin Mayerhofer  Order Page Site Guest User   \n...                        ...                         ...   \n17734               Jordan Lim  Order Page Site Guest User   \n17735               Jordan Lim  Order Page Site Guest User   \n17736               Jordan Lim  Order Page Site Guest User   \n17737               Jordan Lim  Order Page Site Guest User   \n17738               Jordan Lim  Order Page Site Guest User   \n\n      Pantry Order: Created Date  \n0                     2021-01-06  \n1                     2021-01-06  \n2                     2021-01-06  \n3                     2021-01-06  \n4                     2021-01-06  \n...                          ...  \n17734                 2022-10-04  \n17735                 2022-10-04  \n17736                 2022-10-04  \n17737                 2022-10-04  \n17738                 2022-10-04  \n\n[17739 rows x 11 columns]",
      "text/html": "<div>\n<style scoped>\n    .dataframe tbody tr th:only-of-type {\n        vertical-align: middle;\n    }\n\n    .dataframe tbody tr th {\n        vertical-align: top;\n    }\n\n    .dataframe thead th {\n        text-align: right;\n    }\n</style>\n<table border=\"1\" class=\"dataframe\">\n  <thead>\n    <tr style=\"text-align: right;\">\n      <th></th>\n      <th>Pantry Order: Pantry Order Name</th>\n      <th>ID Number</th>\n      <th>Confirmation Code</th>\n      <th>contents</th>\n      <th>scheduledTime</th>\n      <th>Status</th>\n      <th>User Email</th>\n      <th>Was Picked Up</th>\n      <th>Pantry Order: Owner Name</th>\n      <th>Pantry Order: Created By</th>\n      <th>Pantry Order: Created Date</th>\n    </tr>\n  </thead>\n  <tbody>\n    <tr>\n      <th>0</th>\n      <td>a0w3h0000006fCM</td>\n      <td>76</td>\n      <td>UUEQ5NA6aFL1A3aorW9WUqbOwqW1eTBcBQ76L0Eu</td>\n      <td>1 Shampoo;1 Conditioner;2 Soap;1 Pasta Sauce;0...</td>\n      <td>1/7/2021, 12:45 PM</td>\n      <td>done</td>\n      <td>tyaaung@ucdavis.edu</td>\n      <td>y</td>\n      <td>Austin Mayerhofer</td>\n      <td>Order Page Site Guest User</td>\n      <td>2021-01-06</td>\n    </tr>\n    <tr>\n      <th>1</th>\n      <td>a0w3h0000006fCR</td>\n      <td>77</td>\n      <td>lxlfRhScMlVcNkugyLjDjak0Gb1T0iEKZdBRXCF3</td>\n      <td>1 Kashi Cherry Chocolate Bars;1 Soap;2 Veggie ...</td>\n      <td>1/7/2021, 12:30 PM</td>\n      <td>done</td>\n      <td>jihuan@ucdavis.edu</td>\n      <td>y</td>\n      <td>Austin Mayerhofer</td>\n      <td>Order Page Site Guest User</td>\n      <td>2021-01-06</td>\n    </tr>\n    <tr>\n      <th>2</th>\n      <td>a0w3h0000006fCW</td>\n      <td>78</td>\n      <td>PUEJrhQDdeGzMCeWW7CBfJEZEDR8b1j94mbMw4wj</td>\n      <td>1 Peanut Butter;1 Breakfast Cereal (Assorted);...</td>\n      <td>1/7/2021, 3:15 PM</td>\n      <td>done</td>\n      <td>kamodeo@ucdavis.edu</td>\n      <td>y</td>\n      <td>Austin Mayerhofer</td>\n      <td>Order Page Site Guest User</td>\n      <td>2021-01-06</td>\n    </tr>\n    <tr>\n      <th>3</th>\n      <td>a0w3h0000006fCb</td>\n      <td>79</td>\n      <td>e1SL3bI1WBJ0oqPfQYRb3FTMqqbsS8Bpaf2PILhD</td>\n      <td>1 Peanut Butter;2 Assorted Meat Soups;2 Assort...</td>\n      <td>1/8/2021, 2:15 PM</td>\n      <td>done</td>\n      <td>clorena@ucdavis.edu</td>\n      <td>y</td>\n      <td>Austin Mayerhofer</td>\n      <td>Order Page Site Guest User</td>\n      <td>2021-01-06</td>\n    </tr>\n    <tr>\n      <th>4</th>\n      <td>a0w3h0000006fD5</td>\n      <td>80</td>\n      <td>g5JkPucT3PYjN5c0bSxzy34VnPQ9WPZYizgkISoG</td>\n      <td>1 Peanut Butter;2 Soap;2 Body Wash;2 Assorted ...</td>\n      <td>1/8/2021, 1:15 PM</td>\n      <td>neverConfirmed</td>\n      <td>clvang@ucdavis.edu</td>\n      <td>NaN</td>\n      <td>Austin Mayerhofer</td>\n      <td>Order Page Site Guest User</td>\n      <td>2021-01-06</td>\n    </tr>\n    <tr>\n      <th>...</th>\n      <td>...</td>\n      <td>...</td>\n      <td>...</td>\n      <td>...</td>\n      <td>...</td>\n      <td>...</td>\n      <td>...</td>\n      <td>...</td>\n      <td>...</td>\n      <td>...</td>\n      <td>...</td>\n    </tr>\n    <tr>\n      <th>17734</th>\n      <td>a0w3h000003XJvL</td>\n      <td>17827</td>\n      <td>wFzE3vRU3A9dlk0SEuIFTJJjBAOUQQXM9gIvnBs7</td>\n      <td>1 Waxed Dental Floss, Mint;1 Evaporated Milk;2...</td>\n      <td>10/5/2022, 12:00 PM</td>\n      <td>confirmed</td>\n      <td>jjcuevas@ucdavis.edu</td>\n      <td>NaN</td>\n      <td>Jordan Lim</td>\n      <td>Order Page Site Guest User</td>\n      <td>2022-10-04</td>\n    </tr>\n    <tr>\n      <th>17735</th>\n      <td>a0w3h000003XJvf</td>\n      <td>17828</td>\n      <td>pyLKJC9WalypCsHD9zTpzyCeRc0oD8J4o0gCr8AW</td>\n      <td>1 Body Wash, Cocoa Butter;1 Shampoo + Conditio...</td>\n      <td>10/5/2022, 1:00 PM</td>\n      <td>confirmed</td>\n      <td>stunic@ucdavis.edu</td>\n      <td>NaN</td>\n      <td>Jordan Lim</td>\n      <td>Order Page Site Guest User</td>\n      <td>2022-10-04</td>\n    </tr>\n    <tr>\n      <th>17736</th>\n      <td>a0w3h000003XJvk</td>\n      <td>17829</td>\n      <td>QjreKAWZG3WEzvj5HBRxk2EimwuUH1GWxOZcVWNl</td>\n      <td>1 Body Wash, Cocoa Butter;1 Toothbrush;1 Evapo...</td>\n      <td>10/5/2022, 11:00 AM</td>\n      <td>confirmed</td>\n      <td>verod@ucdavis.edu</td>\n      <td>NaN</td>\n      <td>Jordan Lim</td>\n      <td>Order Page Site Guest User</td>\n      <td>2022-10-04</td>\n    </tr>\n    <tr>\n      <th>17737</th>\n      <td>a0w3h000003XJvp</td>\n      <td>17830</td>\n      <td>J8Dz04ybzYG7zaDFL2ArLJ2HLZ1ArsW81Km7cBTM</td>\n      <td>1 Body Wash, Cocoa Butter;1 Hellmann's Mayonna...</td>\n      <td>10/5/2022, 12:30 PM</td>\n      <td>confirmed</td>\n      <td>analviar@ucdavis.edu</td>\n      <td>NaN</td>\n      <td>Jordan Lim</td>\n      <td>Order Page Site Guest User</td>\n      <td>2022-10-04</td>\n    </tr>\n    <tr>\n      <th>17738</th>\n      <td>a0w3h000003XJvu</td>\n      <td>17831</td>\n      <td>ZPMFCY8JCiWPDkQdpZEmFEPm7LAagHiyrR1fvidV</td>\n      <td>1 Canned Green Beans;1 Chicken Noodle Soup;1 S...</td>\n      <td>10/5/2022, 12:30 PM</td>\n      <td>confirmed</td>\n      <td>maxgibson@ucdavis.edu</td>\n      <td>NaN</td>\n      <td>Jordan Lim</td>\n      <td>Order Page Site Guest User</td>\n      <td>2022-10-04</td>\n    </tr>\n  </tbody>\n</table>\n<p>17739 rows × 11 columns</p>\n</div>"
     },
     "execution_count": 80,
     "metadata": {},
     "output_type": "execute_result"
    }
   ],
   "source": [
    "import pandas as pd\n",
    "import numpy as np\n",
    "pantry_data = pd.read_csv('PantryOrders.csv')\n",
    "pantry_data\n",
    "\n",
    "# 7921\n",
    "# 7919\n",
    "# 7918\n",
    "# 7916\n"
   ]
  },
  {
   "cell_type": "code",
   "execution_count": 81,
   "outputs": [
    {
     "data": {
      "text/plain": "array(['done', 'neverConfirmed', 'failed', 'cancelled', 'complete',\n       'checkedIn', 'confirmed'], dtype=object)"
     },
     "execution_count": 81,
     "metadata": {},
     "output_type": "execute_result"
    }
   ],
   "source": [
    "uniqueValues1 = pantry_data['Status'].unique()\n",
    "uniqueValues1\n",
    "#pantry_data['Status'] = pantry_data['Status'].replace(['done','complete'],1)\n",
    "#pantry_data['Status'] = pantry_data['Status'].replace(['failed','cancelled','failed','neverConfirmed','confirmed','checkedIn'],0)\n",
    "#pantry_data"
   ],
   "metadata": {
    "collapsed": false
   }
  },
  {
   "cell_type": "code",
   "execution_count": null,
   "outputs": [],
   "source": [
    "uniqueValues2 = pantry_data['Was Picked Up'].unique()\n",
    "uniqueValues2\n",
    "\n",
    "## Never confirmed = NaN\n",
    "## Done = Yes, ; ,Y ; y\n",
    "## Cancelled = NaN\n",
    "## Failed = N ; n\n",
    "\n",
    "pantry_data['Was Picked Up'] = pantry_data['Was Picked Up'].replace(['Y','y','-Y'],1)\n",
    "pantry_data['Was Picked Up'] = pantry_data['Was Picked Up'].replace(['N','NaN','n',None],0)\n",
    "pantry_data"
   ],
   "metadata": {
    "collapsed": false
   }
  },
  {
   "cell_type": "code",
   "execution_count": null,
   "outputs": [],
   "source": [
    "pantry_data['Was Picked Up'].equals(pantry_data['Status'])\n",
    "dfLength = len(pantry_data. index)\n",
    "comparison_column = np.where(pantry_data[\"Was Picked Up\"] == pantry_data[\"Status\"], True, False)\n",
    "pantry_data[\"equal\"] = comparison_column\n",
    "\n",
    "rslt_df = pantry_data.loc[pantry_data['equal'] == False]\n",
    "rslt_df"
   ],
   "metadata": {
    "collapsed": false
   }
  }
 ],
 "metadata": {
  "kernelspec": {
   "display_name": "Python 3",
   "language": "python",
   "name": "python3"
  },
  "language_info": {
   "codemirror_mode": {
    "name": "ipython",
    "version": 2
   },
   "file_extension": ".py",
   "mimetype": "text/x-python",
   "name": "python",
   "nbconvert_exporter": "python",
   "pygments_lexer": "ipython2",
   "version": "2.7.6"
  }
 },
 "nbformat": 4,
 "nbformat_minor": 0
}
